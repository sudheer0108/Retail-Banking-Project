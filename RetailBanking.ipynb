{
 "cells": [
  {
   "cell_type": "code",
   "execution_count": 52,
   "metadata": {},
   "outputs": [],
   "source": [
    "#Import the required libraries\n",
    "import pandas as pd\n",
    "import numpy as np\n",
    "import matplotlib.pyplot as plt\n",
    "import seaborn as sns\n",
    "import seaborn as sn\n",
    "import scipy.stats as stats\n",
    "from scipy.stats import ttest_1samp,ttest_ind,ttest_rel,chisquare,chi2_contingency\n",
    "%matplotlib inline"
   ]
  },
  {
   "cell_type": "markdown",
   "metadata": {},
   "source": [
    "Follow all Data Exploration steps."
   ]
  },
  {
   "cell_type": "code",
   "execution_count": 53,
   "metadata": {},
   "outputs": [
    {
     "data": {
      "text/html": [
       "<div>\n",
       "<style scoped>\n",
       "    .dataframe tbody tr th:only-of-type {\n",
       "        vertical-align: middle;\n",
       "    }\n",
       "\n",
       "    .dataframe tbody tr th {\n",
       "        vertical-align: top;\n",
       "    }\n",
       "\n",
       "    .dataframe thead th {\n",
       "        text-align: right;\n",
       "    }\n",
       "</style>\n",
       "<table border=\"1\" class=\"dataframe\">\n",
       "  <thead>\n",
       "    <tr style=\"text-align: right;\">\n",
       "      <th></th>\n",
       "      <th>ID</th>\n",
       "      <th>age</th>\n",
       "      <th>job</th>\n",
       "      <th>marital</th>\n",
       "      <th>education</th>\n",
       "      <th>default</th>\n",
       "      <th>balance</th>\n",
       "      <th>housing</th>\n",
       "      <th>loan</th>\n",
       "      <th>contact</th>\n",
       "      <th>day</th>\n",
       "      <th>month</th>\n",
       "      <th>duration</th>\n",
       "      <th>campaign</th>\n",
       "      <th>pdays</th>\n",
       "      <th>previous</th>\n",
       "      <th>poutcome</th>\n",
       "      <th>subscribed</th>\n",
       "    </tr>\n",
       "  </thead>\n",
       "  <tbody>\n",
       "    <tr>\n",
       "      <th>0</th>\n",
       "      <td>26110</td>\n",
       "      <td>56</td>\n",
       "      <td>admin.</td>\n",
       "      <td>married</td>\n",
       "      <td>unknown</td>\n",
       "      <td>no</td>\n",
       "      <td>1933</td>\n",
       "      <td>no</td>\n",
       "      <td>no</td>\n",
       "      <td>telephone</td>\n",
       "      <td>19</td>\n",
       "      <td>nov</td>\n",
       "      <td>44</td>\n",
       "      <td>2</td>\n",
       "      <td>-1</td>\n",
       "      <td>0</td>\n",
       "      <td>unknown</td>\n",
       "      <td>no</td>\n",
       "    </tr>\n",
       "    <tr>\n",
       "      <th>1</th>\n",
       "      <td>40576</td>\n",
       "      <td>31</td>\n",
       "      <td>unknown</td>\n",
       "      <td>married</td>\n",
       "      <td>secondary</td>\n",
       "      <td>no</td>\n",
       "      <td>3</td>\n",
       "      <td>no</td>\n",
       "      <td>no</td>\n",
       "      <td>cellular</td>\n",
       "      <td>20</td>\n",
       "      <td>jul</td>\n",
       "      <td>91</td>\n",
       "      <td>2</td>\n",
       "      <td>-1</td>\n",
       "      <td>0</td>\n",
       "      <td>unknown</td>\n",
       "      <td>no</td>\n",
       "    </tr>\n",
       "    <tr>\n",
       "      <th>2</th>\n",
       "      <td>15320</td>\n",
       "      <td>27</td>\n",
       "      <td>services</td>\n",
       "      <td>married</td>\n",
       "      <td>secondary</td>\n",
       "      <td>no</td>\n",
       "      <td>891</td>\n",
       "      <td>yes</td>\n",
       "      <td>no</td>\n",
       "      <td>cellular</td>\n",
       "      <td>18</td>\n",
       "      <td>jul</td>\n",
       "      <td>240</td>\n",
       "      <td>1</td>\n",
       "      <td>-1</td>\n",
       "      <td>0</td>\n",
       "      <td>unknown</td>\n",
       "      <td>no</td>\n",
       "    </tr>\n",
       "    <tr>\n",
       "      <th>3</th>\n",
       "      <td>43962</td>\n",
       "      <td>57</td>\n",
       "      <td>management</td>\n",
       "      <td>divorced</td>\n",
       "      <td>tertiary</td>\n",
       "      <td>no</td>\n",
       "      <td>3287</td>\n",
       "      <td>no</td>\n",
       "      <td>no</td>\n",
       "      <td>cellular</td>\n",
       "      <td>22</td>\n",
       "      <td>jun</td>\n",
       "      <td>867</td>\n",
       "      <td>1</td>\n",
       "      <td>84</td>\n",
       "      <td>3</td>\n",
       "      <td>success</td>\n",
       "      <td>yes</td>\n",
       "    </tr>\n",
       "    <tr>\n",
       "      <th>4</th>\n",
       "      <td>29842</td>\n",
       "      <td>31</td>\n",
       "      <td>technician</td>\n",
       "      <td>married</td>\n",
       "      <td>secondary</td>\n",
       "      <td>no</td>\n",
       "      <td>119</td>\n",
       "      <td>yes</td>\n",
       "      <td>no</td>\n",
       "      <td>cellular</td>\n",
       "      <td>4</td>\n",
       "      <td>feb</td>\n",
       "      <td>380</td>\n",
       "      <td>1</td>\n",
       "      <td>-1</td>\n",
       "      <td>0</td>\n",
       "      <td>unknown</td>\n",
       "      <td>no</td>\n",
       "    </tr>\n",
       "  </tbody>\n",
       "</table>\n",
       "</div>"
      ],
      "text/plain": [
       "      ID  age         job   marital  education default  balance housing loan  \\\n",
       "0  26110   56      admin.   married    unknown      no     1933      no   no   \n",
       "1  40576   31     unknown   married  secondary      no        3      no   no   \n",
       "2  15320   27    services   married  secondary      no      891     yes   no   \n",
       "3  43962   57  management  divorced   tertiary      no     3287      no   no   \n",
       "4  29842   31  technician   married  secondary      no      119     yes   no   \n",
       "\n",
       "     contact  day month  duration  campaign  pdays  previous poutcome  \\\n",
       "0  telephone   19   nov        44         2     -1         0  unknown   \n",
       "1   cellular   20   jul        91         2     -1         0  unknown   \n",
       "2   cellular   18   jul       240         1     -1         0  unknown   \n",
       "3   cellular   22   jun       867         1     84         3  success   \n",
       "4   cellular    4   feb       380         1     -1         0  unknown   \n",
       "\n",
       "  subscribed  \n",
       "0         no  \n",
       "1         no  \n",
       "2         no  \n",
       "3        yes  \n",
       "4         no  "
      ]
     },
     "execution_count": 53,
     "metadata": {},
     "output_type": "execute_result"
    }
   ],
   "source": [
    "#Loading the dataset\n",
    "df1= pd.read_csv(r\"C:\\Users\\Dell\\Desktop\\Internshala\\train.csv\")\n",
    "df1.head()"
   ]
  },
  {
   "cell_type": "code",
   "execution_count": 54,
   "metadata": {},
   "outputs": [
    {
     "data": {
      "text/html": [
       "<div>\n",
       "<style scoped>\n",
       "    .dataframe tbody tr th:only-of-type {\n",
       "        vertical-align: middle;\n",
       "    }\n",
       "\n",
       "    .dataframe tbody tr th {\n",
       "        vertical-align: top;\n",
       "    }\n",
       "\n",
       "    .dataframe thead th {\n",
       "        text-align: right;\n",
       "    }\n",
       "</style>\n",
       "<table border=\"1\" class=\"dataframe\">\n",
       "  <thead>\n",
       "    <tr style=\"text-align: right;\">\n",
       "      <th></th>\n",
       "      <th>ID</th>\n",
       "      <th>age</th>\n",
       "      <th>job</th>\n",
       "      <th>marital</th>\n",
       "      <th>education</th>\n",
       "      <th>default</th>\n",
       "      <th>balance</th>\n",
       "      <th>housing</th>\n",
       "      <th>loan</th>\n",
       "      <th>contact</th>\n",
       "      <th>day</th>\n",
       "      <th>month</th>\n",
       "      <th>duration</th>\n",
       "      <th>campaign</th>\n",
       "      <th>pdays</th>\n",
       "      <th>previous</th>\n",
       "      <th>poutcome</th>\n",
       "    </tr>\n",
       "  </thead>\n",
       "  <tbody>\n",
       "    <tr>\n",
       "      <th>0</th>\n",
       "      <td>38441</td>\n",
       "      <td>32</td>\n",
       "      <td>services</td>\n",
       "      <td>married</td>\n",
       "      <td>secondary</td>\n",
       "      <td>no</td>\n",
       "      <td>118</td>\n",
       "      <td>yes</td>\n",
       "      <td>no</td>\n",
       "      <td>cellular</td>\n",
       "      <td>15</td>\n",
       "      <td>may</td>\n",
       "      <td>20</td>\n",
       "      <td>6</td>\n",
       "      <td>-1</td>\n",
       "      <td>0</td>\n",
       "      <td>unknown</td>\n",
       "    </tr>\n",
       "    <tr>\n",
       "      <th>1</th>\n",
       "      <td>40403</td>\n",
       "      <td>78</td>\n",
       "      <td>retired</td>\n",
       "      <td>divorced</td>\n",
       "      <td>primary</td>\n",
       "      <td>no</td>\n",
       "      <td>2787</td>\n",
       "      <td>no</td>\n",
       "      <td>no</td>\n",
       "      <td>telephone</td>\n",
       "      <td>1</td>\n",
       "      <td>jul</td>\n",
       "      <td>372</td>\n",
       "      <td>1</td>\n",
       "      <td>-1</td>\n",
       "      <td>0</td>\n",
       "      <td>unknown</td>\n",
       "    </tr>\n",
       "    <tr>\n",
       "      <th>2</th>\n",
       "      <td>3709</td>\n",
       "      <td>31</td>\n",
       "      <td>self-employed</td>\n",
       "      <td>single</td>\n",
       "      <td>tertiary</td>\n",
       "      <td>no</td>\n",
       "      <td>144</td>\n",
       "      <td>yes</td>\n",
       "      <td>no</td>\n",
       "      <td>unknown</td>\n",
       "      <td>16</td>\n",
       "      <td>may</td>\n",
       "      <td>676</td>\n",
       "      <td>1</td>\n",
       "      <td>-1</td>\n",
       "      <td>0</td>\n",
       "      <td>unknown</td>\n",
       "    </tr>\n",
       "    <tr>\n",
       "      <th>3</th>\n",
       "      <td>37422</td>\n",
       "      <td>57</td>\n",
       "      <td>services</td>\n",
       "      <td>single</td>\n",
       "      <td>primary</td>\n",
       "      <td>no</td>\n",
       "      <td>3777</td>\n",
       "      <td>yes</td>\n",
       "      <td>no</td>\n",
       "      <td>telephone</td>\n",
       "      <td>13</td>\n",
       "      <td>may</td>\n",
       "      <td>65</td>\n",
       "      <td>2</td>\n",
       "      <td>-1</td>\n",
       "      <td>0</td>\n",
       "      <td>unknown</td>\n",
       "    </tr>\n",
       "    <tr>\n",
       "      <th>4</th>\n",
       "      <td>12527</td>\n",
       "      <td>45</td>\n",
       "      <td>blue-collar</td>\n",
       "      <td>divorced</td>\n",
       "      <td>secondary</td>\n",
       "      <td>no</td>\n",
       "      <td>-705</td>\n",
       "      <td>no</td>\n",
       "      <td>yes</td>\n",
       "      <td>unknown</td>\n",
       "      <td>3</td>\n",
       "      <td>jul</td>\n",
       "      <td>111</td>\n",
       "      <td>1</td>\n",
       "      <td>-1</td>\n",
       "      <td>0</td>\n",
       "      <td>unknown</td>\n",
       "    </tr>\n",
       "  </tbody>\n",
       "</table>\n",
       "</div>"
      ],
      "text/plain": [
       "      ID  age            job   marital  education default  balance housing  \\\n",
       "0  38441   32       services   married  secondary      no      118     yes   \n",
       "1  40403   78        retired  divorced    primary      no     2787      no   \n",
       "2   3709   31  self-employed    single   tertiary      no      144     yes   \n",
       "3  37422   57       services    single    primary      no     3777     yes   \n",
       "4  12527   45    blue-collar  divorced  secondary      no     -705      no   \n",
       "\n",
       "  loan    contact  day month  duration  campaign  pdays  previous poutcome  \n",
       "0   no   cellular   15   may        20         6     -1         0  unknown  \n",
       "1   no  telephone    1   jul       372         1     -1         0  unknown  \n",
       "2   no    unknown   16   may       676         1     -1         0  unknown  \n",
       "3   no  telephone   13   may        65         2     -1         0  unknown  \n",
       "4  yes    unknown    3   jul       111         1     -1         0  unknown  "
      ]
     },
     "execution_count": 54,
     "metadata": {},
     "output_type": "execute_result"
    }
   ],
   "source": [
    "df2 = pd.read_csv(r\"C:\\Users\\Dell\\Desktop\\Internshala\\test.csv\")\n",
    "df2.head()"
   ]
  },
  {
   "cell_type": "markdown",
   "metadata": {},
   "source": [
    "Let's Identify the dependent(target) and independent variables by observing given features in dataset."
   ]
  },
  {
   "cell_type": "code",
   "execution_count": 55,
   "metadata": {},
   "outputs": [
    {
     "data": {
      "text/plain": [
       "Index(['ID', 'age', 'job', 'marital', 'education', 'default', 'balance',\n",
       "       'housing', 'loan', 'contact', 'day', 'month', 'duration', 'campaign',\n",
       "       'pdays', 'previous', 'poutcome', 'subscribed'],\n",
       "      dtype='object')"
      ]
     },
     "execution_count": 55,
     "metadata": {},
     "output_type": "execute_result"
    }
   ],
   "source": [
    "df1.columns"
   ]
  },
  {
   "cell_type": "code",
   "execution_count": 56,
   "metadata": {},
   "outputs": [
    {
     "data": {
      "text/plain": [
       "Index(['ID', 'age', 'job', 'marital', 'education', 'default', 'balance',\n",
       "       'housing', 'loan', 'contact', 'day', 'month', 'duration', 'campaign',\n",
       "       'pdays', 'previous', 'poutcome'],\n",
       "      dtype='object')"
      ]
     },
     "execution_count": 56,
     "metadata": {},
     "output_type": "execute_result"
    }
   ],
   "source": [
    "df2.columns"
   ]
  },
  {
   "cell_type": "markdown",
   "metadata": {},
   "source": [
    "We can say that \"Target\" variable is \"subscribed\" as it is not presnt in test data and also by observing question we can say."
   ]
  },
  {
   "cell_type": "code",
   "execution_count": 57,
   "metadata": {},
   "outputs": [
    {
     "data": {
      "text/plain": [
       "(31647, 18)"
      ]
     },
     "execution_count": 57,
     "metadata": {},
     "output_type": "execute_result"
    }
   ],
   "source": [
    "df1.shape "
   ]
  },
  {
   "cell_type": "markdown",
   "metadata": {},
   "source": [
    "Here we can observe that 17 features are independent variables and 1 is target varaible i.e \"subscribed\""
   ]
  },
  {
   "cell_type": "markdown",
   "metadata": {},
   "source": [
    "# Identification of Categorical and Continuous Variables"
   ]
  },
  {
   "cell_type": "code",
   "execution_count": 58,
   "metadata": {},
   "outputs": [
    {
     "data": {
      "text/plain": [
       "ID             int64\n",
       "age            int64\n",
       "job           object\n",
       "marital       object\n",
       "education     object\n",
       "default       object\n",
       "balance        int64\n",
       "housing       object\n",
       "loan          object\n",
       "contact       object\n",
       "day            int64\n",
       "month         object\n",
       "duration       int64\n",
       "campaign       int64\n",
       "pdays          int64\n",
       "previous       int64\n",
       "poutcome      object\n",
       "subscribed    object\n",
       "dtype: object"
      ]
     },
     "execution_count": 58,
     "metadata": {},
     "output_type": "execute_result"
    }
   ],
   "source": [
    "df1.dtypes\n",
    "#identify categorical and continuous variables"
   ]
  },
  {
   "cell_type": "markdown",
   "metadata": {},
   "source": [
    "Here pandas store categorical variables as objects and continuous variables as int,float..By this we can identify categorical and continuous varible.W e can observe our target variable is of type categorical."
   ]
  },
  {
   "cell_type": "markdown",
   "metadata": {},
   "source": [
    "# Implementation of Univariate Analysis for Categorical Variables"
   ]
  },
  {
   "cell_type": "code",
   "execution_count": 59,
   "metadata": {},
   "outputs": [
    {
     "data": {
      "text/plain": [
       "no     27932\n",
       "yes     3715\n",
       "Name: subscribed, dtype: int64"
      ]
     },
     "execution_count": 59,
     "metadata": {},
     "output_type": "execute_result"
    }
   ],
   "source": [
    "#creating frequency table for categorical variable 'SUBSCRIBED'\n",
    "df1[\"subscribed\"].value_counts()"
   ]
  },
  {
   "cell_type": "code",
   "execution_count": 60,
   "metadata": {},
   "outputs": [
    {
     "data": {
      "text/plain": [
       "31647"
      ]
     },
     "execution_count": 60,
     "metadata": {},
     "output_type": "execute_result"
    }
   ],
   "source": [
    "a=len(df1[\"subscribed\"]) #Total length(rows) for Sex varaible\n",
    "a"
   ]
  },
  {
   "cell_type": "code",
   "execution_count": 61,
   "metadata": {},
   "outputs": [
    {
     "data": {
      "text/plain": [
       "no     0.882611\n",
       "yes    0.117389\n",
       "Name: subscribed, dtype: float64"
      ]
     },
     "execution_count": 61,
     "metadata": {},
     "output_type": "execute_result"
    }
   ],
   "source": [
    "#creating percentages from frequencies\n",
    "df1[\"subscribed\"].value_counts()/a"
   ]
  },
  {
   "cell_type": "code",
   "execution_count": 62,
   "metadata": {},
   "outputs": [
    {
     "data": {
      "text/plain": [
       "<AxesSubplot:>"
      ]
     },
     "execution_count": 62,
     "metadata": {},
     "output_type": "execute_result"
    },
    {
     "data": {
      "image/png": "[encoded data removed]",
      "text/plain": [
       "<Figure size 432x288 with 1 Axes>"
      ]
     },
     "metadata": {
      "needs_background": "light"
     },
     "output_type": "display_data"
    }
   ],
   "source": [
    "#creating bar plot for sex frequencies\n",
    "df1[\"subscribed\"].value_counts().plot.bar(color = \"red\")"
   ]
  },
  {
   "cell_type": "markdown",
   "metadata": {},
   "source": [
    "By observing we can say ,3715 users out of total 31647 have subscribed .\n",
    "now explore the variables to have a better understanding of the dataset. "
   ]
  },
  {
   "cell_type": "code",
   "execution_count": 63,
   "metadata": {},
   "outputs": [
    {
     "name": "stderr",
     "output_type": "stream",
     "text": [
      "c:\\users\\dell\\appdata\\local\\programs\\python\\python38-32\\lib\\site-packages\\seaborn\\distributions.py:2557: FutureWarning: `distplot` is a deprecated function and will be removed in a future version. Please adapt your code to use either `displot` (a figure-level function with similar flexibility) or `histplot` (an axes-level function for histograms).\n",
      "  warnings.warn(msg, FutureWarning)\n"
     ]
    },
    {
     "data": {
      "text/plain": [
       "<AxesSubplot:xlabel='age', ylabel='Density'>"
      ]
     },
     "execution_count": 63,
     "metadata": {},
     "output_type": "execute_result"
    },
    {
     "data": {
      "image/png": "[encoded data removed]",
      "text/plain": [
       "<Figure size 432x288 with 1 Axes>"
      ]
     },
     "metadata": {
      "needs_background": "light"
     },
     "output_type": "display_data"
    }
   ],
   "source": [
    "#Age variable\n",
    "sn.distplot(df1[\"age\"])"
   ]
  },
  {
   "cell_type": "markdown",
   "metadata": {},
   "source": [
    "We can infer that most of the customers fall in the age group between 20-60. "
   ]
  },
  {
   "cell_type": "code",
   "execution_count": 85,
   "metadata": {},
   "outputs": [
    {
     "data": {
      "text/plain": [
       "<AxesSubplot:>"
      ]
     },
     "execution_count": 85,
     "metadata": {},
     "output_type": "execute_result"
    },
    {
     "data": {
      "image/png": "[encoded data removed]",
      "text/plain": [
       "<Figure size 432x288 with 1 Axes>"
      ]
     },
     "metadata": {
      "needs_background": "light"
     },
     "output_type": "display_data"
    }
   ],
   "source": [
    "#Job variable\n",
    "df1['job'].value_counts().plot.bar()"
   ]
  },
  {
   "cell_type": "markdown",
   "metadata": {},
   "source": [
    "We can infert that most of the customers belongs to blue-collar job."
   ]
  },
  {
   "cell_type": "code",
   "execution_count": 86,
   "metadata": {},
   "outputs": [
    {
     "data": {
      "text/plain": [
       "<AxesSubplot:>"
      ]
     },
     "execution_count": 86,
     "metadata": {},
     "output_type": "execute_result"
    },
    {
     "data": {
      "image/png": "[encoded data removed]",
      "text/plain": [
       "<Figure size 432x288 with 1 Axes>"
      ]
     },
     "metadata": {
      "needs_background": "light"
     },
     "output_type": "display_data"
    }
   ],
   "source": [
    "df1['default'].value_counts().plot.bar(color = \"green\")"
   ]
  },
  {
   "cell_type": "markdown",
   "metadata": {},
   "source": [
    "We can infer that More than 90% of the customers have no default history. "
   ]
  },
  {
   "cell_type": "markdown",
   "metadata": {},
   "source": [
    "we will explore these variables against the target variable using bivariate analysis. "
   ]
  },
  {
   "cell_type": "markdown",
   "metadata": {},
   "source": [
    "# Bivarient Analysis For Categorical-Categorical"
   ]
  },
  {
   "cell_type": "code",
   "execution_count": 82,
   "metadata": {},
   "outputs": [
    {
     "name": "stdout",
     "output_type": "stream",
     "text": [
      "subscribed       no  yes\n",
      "job                     \n",
      "admin.         3179  452\n",
      "blue-collar    6353  489\n",
      "entrepreneur    923   85\n",
      "housemaid       795   79\n",
      "management     5716  923\n",
      "retired        1212  362\n",
      "self-employed   983  140\n",
      "services       2649  254\n",
      "student         453  182\n",
      "technician     4713  594\n",
      "unemployed      776  129\n",
      "unknown         180   26\n"
     ]
    },
    {
     "data": {
      "text/plain": [
       "Text(0.5, 1.0, 'Job Vs Subscribed')"
      ]
     },
     "execution_count": 82,
     "metadata": {},
     "output_type": "execute_result"
    },
    {
     "data": {
      "image/png": "[encoded data removed]",
      "text/plain": [
       "<Figure size 576x576 with 1 Axes>"
      ]
     },
     "metadata": {
      "needs_background": "light"
     },
     "output_type": "display_data"
    }
   ],
   "source": [
    "#Job vs subscribed\n",
    "#Categorical  VS Categorical\n",
    "b=pd.crosstab(df1['job'],df1['subscribed'])\n",
    "print(b)\n",
    "b.div(job.sum(1).astype(float), axis=0).plot(kind=\"bar\", stacked=True,color = \"gr\", figsize=(8,8))\n",
    "plt.xlabel('Job')\n",
    "plt.ylabel('Percentage')\n",
    "plt.title(\"Job Vs Subscribed\")"
   ]
  },
  {
   "cell_type": "code",
   "execution_count": 75,
   "metadata": {},
   "outputs": [
    {
     "data": {
      "text/plain": [
       "(1100.434597491118,\n",
       " 5.620105585403976e-182,\n",
       " 75,\n",
       " array([[7.06089045e+00, 1.94174487e+01, 3.44218409e+01, 4.23653427e+01,\n",
       "         7.59045723e+01, 1.25330805e+02, 1.87113597e+02, 3.23035738e+02,\n",
       "         4.97792777e+02, 5.53397289e+02, 6.43423642e+02, 7.51984833e+02,\n",
       "         1.07590318e+03, 1.25066022e+03, 1.28596467e+03, 1.24095150e+03,\n",
       "         1.16592954e+03, 1.15975126e+03, 1.09885108e+03, 1.04236395e+03,\n",
       "         8.69372136e+02, 9.52337599e+02, 8.47306854e+02, 8.02293677e+02,\n",
       "         7.70519670e+02, 7.24623882e+02, 6.93732486e+02, 7.44923942e+02,\n",
       "         7.12267324e+02, 6.61075868e+02, 6.15180080e+02, 6.17827914e+02,\n",
       "         5.81640851e+02, 5.76345183e+02, 5.88701741e+02, 5.29566784e+02,\n",
       "         5.26918950e+02, 5.13679780e+02, 4.79257939e+02, 5.08384112e+02,\n",
       "         4.50131766e+02, 4.85436218e+02, 3.70696749e+02, 9.62046324e+01,\n",
       "         4.06001201e+01, 4.32479540e+01, 4.14827314e+01, 3.26566183e+01,\n",
       "         4.06001201e+01, 3.53044522e+01, 2.29478940e+01, 2.82435618e+01,\n",
       "         3.88348975e+01, 3.79522862e+01, 3.08913957e+01, 2.64783392e+01,\n",
       "         2.55957279e+01, 2.20652826e+01, 2.20652826e+01, 2.91261731e+01,\n",
       "         2.11826713e+01, 1.32391696e+01, 1.94174487e+01, 1.14739470e+01,\n",
       "         1.32391696e+01, 1.41217809e+01, 4.41305653e+00, 7.06089045e+00,\n",
       "         1.76522261e+00, 1.76522261e+00, 1.76522261e+00, 8.82611306e-01,\n",
       "         8.82611306e-01, 8.82611306e-01, 8.82611306e-01, 8.82611306e-01],\n",
       "        [9.39109552e-01, 2.58255127e+00, 4.57815907e+00, 5.63465731e+00,\n",
       "         1.00954277e+01, 1.66691946e+01, 2.48864031e+01, 4.29642620e+01,\n",
       "         6.62072234e+01, 7.36027112e+01, 8.55763579e+01, 1.00015167e+02,\n",
       "         1.43096818e+02, 1.66339779e+02, 1.71035327e+02, 1.65048504e+02,\n",
       "         1.55070465e+02, 1.54248744e+02, 1.46148924e+02, 1.38636048e+02,\n",
       "         1.15627864e+02, 1.26662401e+02, 1.12693146e+02, 1.06706323e+02,\n",
       "         1.02480330e+02, 9.63761178e+01, 9.22675135e+01, 9.90760578e+01,\n",
       "         9.47326761e+01, 8.79241318e+01, 8.18199197e+01, 8.21720858e+01,\n",
       "         7.73591494e+01, 7.66548172e+01, 7.82982589e+01, 7.04332164e+01,\n",
       "         7.00810503e+01, 6.83202199e+01, 6.37420609e+01, 6.76158878e+01,\n",
       "         5.98682340e+01, 6.45637817e+01, 4.93032515e+01, 1.27953676e+01,\n",
       "         5.39987993e+00, 5.75204601e+00, 5.51726862e+00, 4.34338168e+00,\n",
       "         5.39987993e+00, 4.69554776e+00, 3.05210604e+00, 3.75643821e+00,\n",
       "         5.16510254e+00, 5.04771384e+00, 4.10860429e+00, 3.52166082e+00,\n",
       "         3.40427213e+00, 2.93471735e+00, 2.93471735e+00, 3.87382690e+00,\n",
       "         2.81732866e+00, 1.76083041e+00, 2.58255127e+00, 1.52605302e+00,\n",
       "         1.76083041e+00, 1.87821910e+00, 5.86943470e-01, 9.39109552e-01,\n",
       "         2.34777388e-01, 2.34777388e-01, 2.34777388e-01, 1.17388694e-01,\n",
       "         1.17388694e-01, 1.17388694e-01, 1.17388694e-01, 1.17388694e-01]]))"
      ]
     },
     "execution_count": 75,
     "metadata": {},
     "output_type": "execute_result"
    }
   ],
   "source": [
    "chi2_contingency(pd.crosstab(df1['subscribed'],df1['age']))"
   ]
  },
  {
   "cell_type": "code",
   "execution_count": 87,
   "metadata": {},
   "outputs": [],
   "source": [
    "#Replace no with 0 and yes with 1\n",
    "df1['subscribed'].replace('no', 0,inplace=True)\n",
    "df1['subscribed'].replace('yes', 1,inplace=True)"
   ]
  },
  {
   "cell_type": "code",
   "execution_count": 93,
   "metadata": {},
   "outputs": [
    {
     "data": {
      "text/plain": [
       "<AxesSubplot:>"
      ]
     },
     "execution_count": 93,
     "metadata": {},
     "output_type": "execute_result"
    },
    {
     "data": {
      "image/png": "[encoded data removed]",
      "text/plain": [
       "<Figure size 1440x720 with 2 Axes>"
      ]
     },
     "metadata": {
      "needs_background": "light"
     },
     "output_type": "display_data"
    }
   ],
   "source": [
    "corr = df1.corr()\n",
    "mask = np.array(corr)\n",
    "mask[np.tril_indices_from(mask)] = False\n",
    "fig,ax= plt.subplots()\n",
    "fig.set_size_inches(20,10)\n",
    "sn.heatmap(corr, mask=mask,vmax=.9, square=True,annot=True, cmap=\"Blues\")"
   ]
  },
  {
   "cell_type": "markdown",
   "metadata": {},
   "source": [
    "We can infer that duration of the call is highly correlated with the target variable. This can be verified as well. As the duration of the call is more, there are higher chances that the client is showing interest in the term deposit and hence there are higher chances that the client will subscribe to term deposit.\n",
    "\n",
    "Next we will look for any missing values in the dataset."
   ]
  },
  {
   "cell_type": "markdown",
   "metadata": {},
   "source": [
    "# Implementation Of Treating Missing Values"
   ]
  },
  {
   "cell_type": "code",
   "execution_count": 94,
   "metadata": {},
   "outputs": [
    {
     "data": {
      "text/plain": [
       "ID            0\n",
       "age           0\n",
       "job           0\n",
       "marital       0\n",
       "education     0\n",
       "default       0\n",
       "balance       0\n",
       "housing       0\n",
       "loan          0\n",
       "contact       0\n",
       "day           0\n",
       "month         0\n",
       "duration      0\n",
       "campaign      0\n",
       "pdays         0\n",
       "previous      0\n",
       "poutcome      0\n",
       "subscribed    0\n",
       "dtype: int64"
      ]
     },
     "execution_count": 94,
     "metadata": {},
     "output_type": "execute_result"
    }
   ],
   "source": [
    "df1.isnull().sum()"
   ]
  },
  {
   "cell_type": "markdown",
   "metadata": {},
   "source": [
    "We can see there are no missing values in the train dataset.\n",
    "Now, we will start to build our predictive model to predict whether a client will subscribe to a term deposit or not.\n",
    "\n",
    "As the sklearn models takes only numerical input, we will convert the categorical variables into numerical values using dummies. We will remove the ID variables as they are unique values and then apply dummies. We will also remove the target variable and keep it in a separate variable."
   ]
  },
  {
   "cell_type": "markdown",
   "metadata": {},
   "source": [
    "# Model Building"
   ]
  },
  {
   "cell_type": "code",
   "execution_count": 96,
   "metadata": {},
   "outputs": [],
   "source": [
    "target = df1['subscribed']\n",
    "df1 = df1.drop('subscribed',1)"
   ]
  },
  {
   "cell_type": "code",
   "execution_count": 97,
   "metadata": {},
   "outputs": [],
   "source": [
    "# applying dummies on the train dataset\n",
    "df1 = pd.get_dummies(df1)"
   ]
  },
  {
   "cell_type": "code",
   "execution_count": 101,
   "metadata": {},
   "outputs": [],
   "source": [
    "from sklearn.model_selection import train_test_split\n",
    "# splitting into train and validation with 20% data in validation set and 80% data in train set.\n",
    "X_train, X_val, y_train, y_val = train_test_split(df1, target, test_size = 0.2, random_state=12)"
   ]
  },
  {
   "cell_type": "markdown",
   "metadata": {},
   "source": [
    "Now our data is ready. Its time to build our model and check its performance. Logistic regression is used for classification problems and as it is a classification problem let's first build a Logistic Regression model."
   ]
  },
  {
   "cell_type": "code",
   "execution_count": 102,
   "metadata": {},
   "outputs": [
    {
     "name": "stderr",
     "output_type": "stream",
     "text": [
      "c:\\users\\dell\\appdata\\local\\programs\\python\\python38-32\\lib\\site-packages\\sklearn\\linear_model\\_logistic.py:762: ConvergenceWarning: lbfgs failed to converge (status=1):\n",
      "STOP: TOTAL NO. of ITERATIONS REACHED LIMIT.\n",
      "\n",
      "Increase the number of iterations (max_iter) or scale the data as shown in:\n",
      "    https://scikit-learn.org/stable/modules/preprocessing.html\n",
      "Please also refer to the documentation for alternative solver options:\n",
      "    https://scikit-learn.org/stable/modules/linear_model.html#logistic-regression\n",
      "  n_iter_i = _check_optimize_result(\n"
     ]
    },
    {
     "data": {
      "text/plain": [
       "LogisticRegression()"
      ]
     },
     "execution_count": 102,
     "metadata": {},
     "output_type": "execute_result"
    }
   ],
   "source": [
    "from sklearn.linear_model import LogisticRegression\n",
    "# defining the logistic regression model\n",
    "lreg = LogisticRegression()\n",
    "# fitting the model on  X_train and y_train\n",
    "lreg.fit(X_train,y_train)"
   ]
  },
  {
   "cell_type": "code",
   "execution_count": 103,
   "metadata": {},
   "outputs": [],
   "source": [
    "# making prediction on the validation set\n",
    "prediction = lreg.predict(X_val)"
   ]
  },
  {
   "cell_type": "markdown",
   "metadata": {},
   "source": [
    "Now we will evaluate how accurate our predictions are. As the evaluation metric for this problem is accuracy, let's calculate the accuracy on validation set."
   ]
  },
  {
   "cell_type": "code",
   "execution_count": 104,
   "metadata": {},
   "outputs": [
    {
     "data": {
      "text/plain": [
       "0.8894154818325435"
      ]
     },
     "execution_count": 104,
     "metadata": {},
     "output_type": "execute_result"
    }
   ],
   "source": [
    "from sklearn.metrics import accuracy_score\n",
    "# calculating the accuracy score\n",
    "accuracy_score(y_val, prediction)"
   ]
  },
  {
   "cell_type": "markdown",
   "metadata": {},
   "source": [
    "We got an accuracy score of around 90% on the validation dataset. Logistic regression has a linear decision boundary. What if our data have non linearity? We need a model that can capture this non linearity.\n",
    "\n",
    "Let's try decision tree algorithm now to check if we get better accuracy with that."
   ]
  },
  {
   "cell_type": "markdown",
   "metadata": {},
   "source": [
    "# Decision Tree"
   ]
  },
  {
   "cell_type": "code",
   "execution_count": 105,
   "metadata": {},
   "outputs": [
    {
     "data": {
      "text/plain": [
       "DecisionTreeClassifier(max_depth=4, random_state=0)"
      ]
     },
     "execution_count": 105,
     "metadata": {},
     "output_type": "execute_result"
    }
   ],
   "source": [
    "from sklearn.tree import DecisionTreeClassifier\n",
    "# defining the decision tree model with depth of 4, you can tune it further to improve the accuracy score\n",
    "clf = DecisionTreeClassifier(max_depth=4, random_state=0)\n",
    "# fitting the decision tree model\n",
    "clf.fit(X_train,y_train)"
   ]
  },
  {
   "cell_type": "code",
   "execution_count": 106,
   "metadata": {},
   "outputs": [
    {
     "data": {
      "text/plain": [
       "0.9042654028436019"
      ]
     },
     "execution_count": 106,
     "metadata": {},
     "output_type": "execute_result"
    }
   ],
   "source": [
    "# making prediction on the validation set\n",
    "predict = clf.predict(X_val)\n",
    "# calculating the accuracy score\n",
    "accuracy_score(y_val, predict)"
   ]
  },
  {
   "cell_type": "markdown",
   "metadata": {},
   "source": [
    "We got an accuracy of more than 90% on the validation set. "
   ]
  },
  {
   "cell_type": "code",
   "execution_count": 108,
   "metadata": {},
   "outputs": [],
   "source": [
    "#similar process as train dataset\n",
    "df2 = pd.get_dummies(df2)\n",
    "test_prediction = clf.predict(df2)"
   ]
  },
  {
   "cell_type": "markdown",
   "metadata": {},
   "source": [
    "Finally, we will save these predictions into a csv file. You can then open this csv file and copy paste the predictions on the provided excel file to generate score."
   ]
  },
  {
   "cell_type": "code",
   "execution_count": 111,
   "metadata": {},
   "outputs": [],
   "source": [
    "submission = pd.DataFrame()\n",
    "# creating a Business_Sourced column and saving the predictions in it\n",
    "submission['ID'] = df2['ID']\n",
    "submission['subscribed'] = test_prediction"
   ]
  },
  {
   "cell_type": "code",
   "execution_count": 112,
   "metadata": {},
   "outputs": [],
   "source": [
    "#convert to numveric\n",
    "submission['subscribed'].replace(0,'no',inplace=True)\n",
    "submission['subscribed'].replace(1,'yes',inplace=True)"
   ]
  },
  {
   "cell_type": "code",
   "execution_count": 114,
   "metadata": {},
   "outputs": [],
   "source": [
    "submission.to_csv(r\"C:\\Users\\Dell\\Desktop\\Internshala\\submission.csv\", header=True, index=False)"
   ]
  },
  {
   "cell_type": "code",
   "execution_count": null,
   "metadata": {},
   "outputs": [],
   "source": []
  }
 ],
 "metadata": {
  "kernelspec": {
   "display_name": "Python 3",
   "language": "python",
   "name": "python3"
  },
  "language_info": {
   "codemirror_mode": {
    "name": "ipython",
    "version": 3
   },
   "file_extension": ".py",
   "mimetype": "text/x-python",
   "name": "python",
   "nbconvert_exporter": "python",
   "pygments_lexer": "ipython3",
   "version": "3.8.1"
  }
 },
 "nbformat": 4,
 "nbformat_minor": 4
}
